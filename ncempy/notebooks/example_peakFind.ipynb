{
 "cells": [
  {
   "cell_type": "markdown",
   "metadata": {},
   "source": [
    "# Example of how to find peaks in a synthetic image\n",
    " - Create a set of 2D Gaussians\n",
    " - Find the center of the Guassian to integer accuracy\n",
    " - Optimize the position using Gaussian fitting for each peak"
   ]
  },
  {
   "cell_type": "code",
   "execution_count": null,
   "metadata": {},
   "outputs": [],
   "source": [
    "%matplotlib notebook\n",
    "\n",
    "import numpy as np\n",
    "import matplotlib.pyplot as plt\n",
    "\n",
    "# Import these from ncempy.algo\n",
    "from ncempy.algo import gaussND\n",
    "from ncempy.algo import peakFind"
   ]
  },
  {
   "cell_type": "markdown",
   "metadata": {},
   "source": [
    "# Create a sample 2D Image\n",
    " - Gaussians are placed on a grid with some random small offsets\n",
    " - the variable coords are the known positions \n",
    "  - these will not be known in a real experiment"
   ]
  },
  {
   "cell_type": "code",
   "execution_count": null,
   "metadata": {},
   "outputs": [],
   "source": [
    "# Create coordinates with a random offset\n",
    "coords = peakFind.lattice2D_2((1, 0), (0, 1), 2, 2, (0, 0), (5, 5))\n",
    "coords += np.random.rand(coords.shape[0], coords.shape[1]) / 2.5\n",
    "coords = np.array(coords)*30 + (100, 100)\n",
    "print('Coords shape = {}'.format(coords.shape))\n",
    "\n",
    "# Create an image with the coordinates as gaussians\n",
    "kernel_shape = (11, 11)\n",
    "simIm = peakFind.peaksToImage(coords, (512, 512), (1.75, 2.75), kernel_shape)\n",
    "    \n",
    "fg, ax = plt.subplots(1, 2, sharex=True,sharey=True)\n",
    "ax[0].imshow(simIm)\n",
    "ax[1].imshow(simIm)\n",
    "ax[1].scatter(coords[:,1], coords[:,0],c='r',marker='.')\n",
    "fg.tight_layout()"
   ]
  },
  {
   "cell_type": "markdown",
   "metadata": {},
   "source": [
    "# Find the center pixel of each peak\n",
    " - uses ncempy.algo.peakFind.peakFind2D()\n",
    " - These will be integer values of the max peak positions.\n",
    " - Gaussian fitting will be used to find the smal random offsets\n",
    " - See end of notebook for an explanation as to how this works."
   ]
  },
  {
   "cell_type": "code",
   "execution_count": null,
   "metadata": {},
   "outputs": [],
   "source": [
    "coords_found = peakFind.peakFind2D(simIm, 0.5)\n",
    "\n",
    "fg, ax = plt.subplots(1,1)\n",
    "ax.imshow(simIm)\n",
    "_ = ax.scatter(coords_found[:,1],coords_found[:,0],c='r',marker='x')"
   ]
  },
  {
   "cell_type": "markdown",
   "metadata": {},
   "source": [
    "# Use Gaussian fitting for sub-pixel fitting\n",
    " - Each peak is fit to a 2D Gaussian function\n",
    " - The average of the sigma values is printed"
   ]
  },
  {
   "cell_type": "code",
   "execution_count": null,
   "metadata": {},
   "outputs": [],
   "source": [
    "optPeaks, optI, fittingValues = peakFind.fit_peaks_gauss2D(simIm, coords_found, 5, \n",
    "                                                           (1.5, 2.5), ((-1.5, -1.5,0,0),(1.5,1.5,3,3)))\n",
    "\n",
    "# Plot the gaussian widths\n",
    "f2, ax2 = plt.subplots(1, 2)\n",
    "ax2[0].plot(optPeaks[:, 2],'go')\n",
    "ax2[0].plot(optPeaks[:, 3],'ro')\n",
    "ax2[0].set(title='Gaussian fit sigmas',xlabel='index sorted by peak intensity')\n",
    "ax2[0].legend(labels=['width 0', 'width 1'])\n",
    "stdMeans = np.mean(optPeaks[:, 2:4], axis=0)\n",
    "\n",
    "# Print out the average of the fitted sigmas\n",
    "print('Sigma means [s_0, s_1]: {}'.format(stdMeans))\n",
    "\n",
    "# Plot the fitted center (relative from the intensity peak)\n",
    "ax2[1].plot(fittingValues[:, 0], 'o')\n",
    "ax2[1].plot(fittingValues[:, 1], 'o')\n",
    "ax2[1].set(title=\"Gaussian fit relative centers\", xlabel='index sorted by peak intensity')\n",
    "_ = ax2[1].legend(labels=['center 0', 'center 1'])\n",
    "ax2[1].set(ylim=(-0.5, 0.5))\n",
    "ax2[1].set(yticks=(-0.5, -0.25, 0, 0.25, 0.5))\n",
    "fg.tight_layout()"
   ]
  },
  {
   "cell_type": "markdown",
   "metadata": {},
   "source": [
    "# Plot to compare the known and fitted coordinates\n",
    " - coords are the expected positions we used to generate the image\n",
    " - coords_found are the peaks found with full pixel precision\n",
    " - optPeaks are the optimized peak positions using Gaussian fitting\n",
    " \n",
    "## Zoom in to peaks to see how well the fit worked"
   ]
  },
  {
   "cell_type": "code",
   "execution_count": null,
   "metadata": {
    "scrolled": false
   },
   "outputs": [],
   "source": [
    "fg, ax = plt.subplots(1,1)\n",
    "ax.imshow(simIm)\n",
    "ax.scatter(coords_found[:,1], coords_found[:,0],c='b',marker='o')\n",
    "ax.scatter(optPeaks[:,1], optPeaks[:,0],c='r',marker='x')\n",
    "ax.scatter(coords[:,1], coords[:,0],c='k',marker='+')\n",
    "_ = ax.legend(['integer', 'optimized', 'expected'])"
   ]
  },
  {
   "cell_type": "markdown",
   "metadata": {},
   "source": [
    "# Find the error in the fitting\n",
    " - Gausssian fitting can be heavily influenced by the tails\n",
    " - Some error is expected."
   ]
  },
  {
   "cell_type": "code",
   "execution_count": null,
   "metadata": {
    "scrolled": false
   },
   "outputs": [],
   "source": [
    "# Plot the RMS error for each fitted peak\n",
    "# First sort each set of coordinates to match them\n",
    "err = []\n",
    "for a, b in zip(coords[np.argsort(coords[:,0]),:], optPeaks[np.argsort(optPeaks[:,0]),0:2]):\n",
    "    err.append(np.sqrt(np.sum(a - b)**2))\n",
    "    \n",
    "fg, ax = plt.subplots(1, 1)\n",
    "ax.plot(err)\n",
    "_ = ax.set(xlabel='coorindate', ylabel='RMS error')"
   ]
  },
  {
   "cell_type": "markdown",
   "metadata": {},
   "source": [
    "# How does peakFind2D work with the Roll?\n",
    " - A very confusing point is the indexing used in meshgrid\n",
    " - If you use indexing='ij' then the peak position needs to be plotted in matplotlib backwards (row,col)\n",
    " - If you change the meshgrid indexing='xy' then this issue is less confusing BUT....\n",
    " - Default indexing used to be 'ij' when I wrote this (and lots of other) code. So, now I stick with that convention."
   ]
  },
  {
   "cell_type": "code",
   "execution_count": null,
   "metadata": {},
   "outputs": [],
   "source": [
    "# Copy doubleRoll from ncempy.algo.peakFind\n",
    "# to look at the algorithm\n",
    "def doubleRoll(image,vec):\n",
    "    return np.roll(np.roll(image, vec[0], axis=0), vec[1], axis=1)"
   ]
  },
  {
   "cell_type": "markdown",
   "metadata": {},
   "source": [
    "# Create a single 2D Gaussian peak"
   ]
  },
  {
   "cell_type": "code",
   "execution_count": null,
   "metadata": {},
   "outputs": [],
   "source": [
    "known_peak = [6, 5]\n",
    "\n",
    "YY, XX = np.meshgrid(range(0,12),range(0,12),indexing='ij')\n",
    "gg = gaussND.gauss2D(XX,YY,known_peak[1], known_peak[0],1,1)\n",
    "gg = np.round(gg,decimals=3)\n",
    "\n",
    "plt.figure()\n",
    "plt.imshow(gg)"
   ]
  },
  {
   "cell_type": "markdown",
   "metadata": {},
   "source": [
    "# Roll the array 1 pixel in each direction\n",
    " - Compare the original and the rolled version\n",
    " - The peak will be moved by 1 pixel in each direction in each case\n",
    " - Here I ignore the next nearest neighbors (-1,-1) for simplicity. (peakFind.doubleRoll2D does not ignore these).\n",
    " - The peak will always be larger than the element-by-element comparison in each roll"
   ]
  },
  {
   "cell_type": "code",
   "execution_count": null,
   "metadata": {},
   "outputs": [],
   "source": [
    "# Compare only nearest neighbors\n",
    "roll01 = gg > doubleRoll(gg, [0, 1])\n",
    "roll10 = gg > doubleRoll(gg, [1, 0])\n",
    "roll11 = gg > doubleRoll(gg, [1, 1])\n",
    "roll_1_1 = gg > doubleRoll(gg, [-1, -1])\n",
    "\n",
    "fg,ax = plt.subplots(2,2)\n",
    "ax[0,0].imshow(roll01)\n",
    "ax[0,1].imshow(roll10)\n",
    "ax[1,0].imshow(roll11)\n",
    "ax[1,1].imshow(roll_1_1)\n",
    "\n",
    "for aa in ax.ravel():\n",
    "    aa.scatter(known_peak[1], known_peak[0])\n",
    "\n",
    "ax[0,0].legend(['known peak position'])"
   ]
  },
  {
   "cell_type": "markdown",
   "metadata": {},
   "source": [
    "# Compare each rolled image\n",
    " - use logical and to find the pixel which was highest in every comparison\n",
    " - The local peak will be the only one left"
   ]
  },
  {
   "cell_type": "code",
   "execution_count": null,
   "metadata": {},
   "outputs": [],
   "source": [
    "final = roll01 & roll10 & roll11 & roll_1_1\n",
    "\n",
    "fg,ax = plt.subplots(1,1)\n",
    "ax.imshow(final)\n",
    "ax.scatter(known_peak[1],known_peak[0])\n"
   ]
  },
  {
   "cell_type": "markdown",
   "metadata": {},
   "source": [
    "# Find the peak using where\n",
    " - We have a bool array above.\n",
    " - np.where will return the elements of the True values which correspond to the peak position(s)"
   ]
  },
  {
   "cell_type": "code",
   "execution_count": null,
   "metadata": {},
   "outputs": [],
   "source": [
    "peak_position = np.array(np.where(final))\n",
    "print(peak_position)"
   ]
  }
 ],
 "metadata": {
  "kernelspec": {
   "display_name": "ncempy dev",
   "language": "python",
   "name": "ncempy"
  },
  "language_info": {
   "codemirror_mode": {
    "name": "ipython",
    "version": 3
   },
   "file_extension": ".py",
   "mimetype": "text/x-python",
   "name": "python",
   "nbconvert_exporter": "python",
   "pygments_lexer": "ipython3",
   "version": "3.7.5"
  }
 },
 "nbformat": 4,
 "nbformat_minor": 4
}
