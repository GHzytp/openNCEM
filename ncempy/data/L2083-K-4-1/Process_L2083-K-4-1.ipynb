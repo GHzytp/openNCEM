{
 "cells": [
  {
   "cell_type": "markdown",
   "metadata": {},
   "source": [
    "# EDS tomography pipeline overview\n",
    "\n",
    "For any questions, e-mail Zack Gainsforth (zackg@berkeley.edu).\n",
    "\n",
    "We start with a sequence of EDS acquisitions.  We have one Bruker file (angle.bcf) for each stage tilt.  angle = whatever the stage alpha is in degrees.  These files are all in an input directory.  The processing sequence is:\n",
    "\n",
    "1. Pull the raw signals out of the bcf files.  Each signal could be an element or could be an energy window.\n",
    "2. Normalize the signals as a function of stage tilt (there is variable shadowing of the detector at different tilts.)\n",
    "3. Output the signals to tiff stacks.\n",
    "4. Use an external program (TomViz or ImageJ) to align one of the tif stacks and save the alignments to a text file.\n",
    "5. Apply that alignment across all the signals.\n",
    "6. Output everything into a format that GENFIRE can read, and setup GENFIRE calculations.\n",
    "7. Do the GENFIRE calculations (generally on a compute cluster).\n",
    "8. Read in the results and trim the cubes (there is usually some noise at the periphery).\n",
    "9. Produce visualizations in ChimeraX.\n",
    "\n",
    "Let's go!"
   ]
  },
  {
   "cell_type": "code",
   "execution_count": 22,
   "metadata": {},
   "outputs": [
    {
     "data": {
      "text/html": [
       "<style>.container { width:100% !important; }</style>"
      ],
      "text/plain": [
       "<IPython.core.display.HTML object>"
      ]
     },
     "metadata": {},
     "output_type": "display_data"
    }
   ],
   "source": [
    "import sys, os, shutil\n",
    "import numpy as np\n",
    "import matplotlib.pyplot as plt\n",
    "import genfire\n",
    "import ipyvolume\n",
    "import os\n",
    "\n",
    "# It annoys me that I have a large screen and these notebooks are a tiny -- narrow -- itsy bitsy column down the middle.\n",
    "# The following two lines make jupyter notebook use the whole window!  Comment them out if you don't like it.\n",
    "from IPython.core.display import display, HTML\n",
    "display(HTML(\"<style>.container { width:100% !important; }</style>\"))\n",
    "\n",
    "# I also like images to be bigger than default.\n",
    "import matplotlib.pylab as pylab\n",
    "pylab.rcParams['figure.figsize'] = 10, 6  # that's default image size for this interactive session\n",
    "\n",
    "# I'm on a mac so I get to use retina resolution on my images.  Uncomment this line if you're using a mac too.\n",
    "%config InlineBackend.figure_format = 'retina'"
   ]
  },
  {
   "cell_type": "code",
   "execution_count": 26,
   "metadata": {},
   "outputs": [],
   "source": [
    "# These are the directories for the different stages of processing.\n",
    "InputDirectory = os.path.join('Input')\n",
    "OutputDirectory = os.path.join('Output4bin', 'Unaligned')\n",
    "AlignedDirectory = os.path.join('Output4bin', 'Aligned')\n",
    "ReconstructedDirectory = os.path.join('Output4bin', 'Reconstructed')\n",
    "\n",
    "# These are the signals we will extract today.\n",
    "SignalNames = ['HAADF', 'Al_Ka', 'C_Ka', 'Ca_Ka', 'Cr_Ka', 'Fe_Ka', 'Ga_Ka', 'Mg_Ka', 'Na_Ka', 'Ni_Ka', 'O_Ka', 'P_Ka', 'Pt_La', 'S_Ka', 'Si_Ka']\n"
   ]
  },
  {
   "cell_type": "code",
   "execution_count": 24,
   "metadata": {},
   "outputs": [],
   "source": [
    "from ncempy.edstomo import preprocess, postprocess\n",
    "# If you get a warning about traitsui, ignore it.  We're not using traitsui."
   ]
  },
  {
   "cell_type": "markdown",
   "metadata": {},
   "source": [
    "# 1. Pull the raw signals out of bcf files.\n",
    "You have to have all the bcf files in one directory and named like this:\n",
    "\n",
    "-10.bcf  \n",
    "-5.bcf  \n",
    "0.bcf  \n",
    "5.bcf  \n",
    "10.bcf  \n",
    "etc.\n",
    "\n",
    "The code will automatically construct a list of tilts from the names of the files and sort them according to tilts."
   ]
  },
  {
   "cell_type": "code",
   "execution_count": 25,
   "metadata": {},
   "outputs": [
    {
     "name": "stdout",
     "output_type": "stream",
     "text": [
      "Extracting Signals from:\n",
      "Binning is 4 so rebinned cubes will have spatial dimension (64, 64).\n",
      "Input/-50.bcf: HAADF, Al_Ka, C_Ka, Ca_Ka, Cr_Ka, Fe_Ka, Ga_Ka, Mg_Ka, Na_Ka, Ni_Ka, O_Ka, P_Ka, Pt_La, S_Ka, Si_Ka, done.\n",
      "Input/-45.bcf: HAADF, Al_Ka, C_Ka, Ca_Ka, Cr_Ka, Fe_Ka, Ga_Ka, Mg_Ka, Na_Ka, Ni_Ka, O_Ka, P_Ka, Pt_La, S_Ka, Si_Ka, done.\n",
      "Input/-40.bcf: HAADF, Al_Ka, C_Ka, Ca_Ka, Cr_Ka, Fe_Ka, Ga_Ka, Mg_Ka, Na_Ka, Ni_Ka, O_Ka, P_Ka, Pt_La, S_Ka, Si_Ka, done.\n",
      "Input/-35.bcf: HAADF, Al_Ka, C_Ka, Ca_Ka, Cr_Ka, Fe_Ka, Ga_Ka, Mg_Ka, Na_Ka, Ni_Ka, O_Ka, P_Ka, Pt_La, S_Ka, Si_Ka, done.\n",
      "Input/-30.bcf: HAADF, Al_Ka, C_Ka, Ca_Ka, Cr_Ka, Fe_Ka, Ga_Ka, Mg_Ka, Na_Ka, Ni_Ka, O_Ka, P_Ka, Pt_La, S_Ka, Si_Ka, done.\n",
      "Input/-25.bcf: HAADF, Al_Ka, C_Ka, Ca_Ka, Cr_Ka, Fe_Ka, Ga_Ka, Mg_Ka, Na_Ka, Ni_Ka, O_Ka, P_Ka, Pt_La, S_Ka, Si_Ka, done.\n",
      "Input/-20.bcf: HAADF, Al_Ka, C_Ka, Ca_Ka, Cr_Ka, Fe_Ka, Ga_Ka, Mg_Ka, Na_Ka, Ni_Ka, O_Ka, P_Ka, Pt_La, S_Ka, Si_Ka, done.\n",
      "Input/-15.bcf: HAADF, Al_Ka, C_Ka, Ca_Ka, Cr_Ka, Fe_Ka, Ga_Ka, Mg_Ka, Na_Ka, Ni_Ka, O_Ka, P_Ka, Pt_La, S_Ka, Si_Ka, done.\n",
      "Input/-10.bcf: HAADF, Al_Ka, C_Ka, Ca_Ka, Cr_Ka, Fe_Ka, Ga_Ka, Mg_Ka, Na_Ka, Ni_Ka, O_Ka, P_Ka, Pt_La, S_Ka, Si_Ka, done.\n",
      "Input/-5.bcf: HAADF, Al_Ka, C_Ka, Ca_Ka, Cr_Ka, Fe_Ka, Ga_Ka, Mg_Ka, Na_Ka, Ni_Ka, O_Ka, P_Ka, Pt_La, S_Ka, Si_Ka, done.\n",
      "Input/0.bcf: HAADF, Al_Ka, C_Ka, Ca_Ka, Cr_Ka, Fe_Ka, Ga_Ka, Mg_Ka, Na_Ka, Ni_Ka, O_Ka, P_Ka, Pt_La, S_Ka, Si_Ka, done.\n",
      "Input/5.bcf: HAADF, Al_Ka, C_Ka, Ca_Ka, Cr_Ka, Fe_Ka, Ga_Ka, Mg_Ka, Na_Ka, Ni_Ka, O_Ka, P_Ka, Pt_La, S_Ka, Si_Ka, done.\n",
      "Input/10.bcf: HAADF, Al_Ka, C_Ka, Ca_Ka, Cr_Ka, Fe_Ka, Ga_Ka, Mg_Ka, Na_Ka, Ni_Ka, O_Ka, P_Ka, Pt_La, S_Ka, Si_Ka, done.\n",
      "Input/15.bcf: HAADF, Al_Ka, C_Ka, Ca_Ka, Cr_Ka, Fe_Ka, Ga_Ka, Mg_Ka, Na_Ka, Ni_Ka, O_Ka, P_Ka, Pt_La, S_Ka, Si_Ka, done.\n",
      "Input/20.bcf: HAADF, Al_Ka, C_Ka, Ca_Ka, Cr_Ka, Fe_Ka, Ga_Ka, Mg_Ka, Na_Ka, Ni_Ka, O_Ka, P_Ka, Pt_La, S_Ka, Si_Ka, done.\n",
      "Input/25.bcf: HAADF, Al_Ka, C_Ka, Ca_Ka, Cr_Ka, Fe_Ka, Ga_Ka, Mg_Ka, Na_Ka, Ni_Ka, O_Ka, P_Ka, Pt_La, S_Ka, Si_Ka, done.\n",
      "Input/30.bcf: HAADF, Al_Ka, C_Ka, Ca_Ka, Cr_Ka, Fe_Ka, Ga_Ka, Mg_Ka, Na_Ka, Ni_Ka, O_Ka, P_Ka, Pt_La, S_Ka, Si_Ka, done.\n",
      "Input/35.bcf: HAADF, Al_Ka, C_Ka, Ca_Ka, Cr_Ka, Fe_Ka, Ga_Ka, Mg_Ka, Na_Ka, Ni_Ka, O_Ka, P_Ka, Pt_La, S_Ka, Si_Ka, done.\n",
      "Input/40.bcf: HAADF, Al_Ka, C_Ka, Ca_Ka, Cr_Ka, Fe_Ka, Ga_Ka, Mg_Ka, Na_Ka, Ni_Ka, O_Ka, P_Ka, Pt_La, S_Ka, Si_Ka, done.\n",
      "Input/45.bcf: HAADF, Al_Ka, C_Ka, Ca_Ka, Cr_Ka, Fe_Ka, Ga_Ka, Mg_Ka, Na_Ka, Ni_Ka, O_Ka, P_Ka, Pt_La, S_Ka, Si_Ka, done.\n",
      "Input/50.bcf: HAADF, Al_Ka, C_Ka, Ca_Ka, Cr_Ka, Fe_Ka, Ga_Ka, Mg_Ka, Na_Ka, Ni_Ka, O_Ka, P_Ka, Pt_La, S_Ka, Si_Ka, done.\n",
      "Signal Names: odict_keys(['HAADF', 'Al_Ka', 'C_Ka', 'Ca_Ka', 'Cr_Ka', 'Fe_Ka', 'Ga_Ka', 'Mg_Ka', 'Na_Ka', 'Ni_Ka', 'O_Ka', 'P_Ka', 'Pt_La', 'S_Ka', 'Si_Ka'])\n",
      "HAADF signal shape: (21, 256, 256)\n",
      "Fe_Ka signal shape: (21, 64, 64)\n",
      "Tilts: [-50.0, -45.0, -40.0, -35.0, -30.0, -25.0, -20.0, -15.0, -10.0, -5.0, 0.0, 5.0, 10.0, 15.0, 20.0, 25.0, 30.0, 35.0, 40.0, 45.0, 50.0]\n",
      "At this point all this data is held in RAM.  Hopefully you have enough!\n"
     ]
    }
   ],
   "source": [
    "# First we extract the raw signals from the bcf files.  We infer the list of stage tilts from the names of the files.\n",
    "# The EDS channels will be two binned (meaning each voxel is 2x2x2 voxels summed).  The HAADF channel is unchanged.\n",
    "Signals, Tilts = preprocess.ExtractRawSignalsFromBrukerSequence(InputDirectory=InputDirectory, SignalNames=SignalNames, Binning=4)\n",
    "print(f'Signal Names: {Signals.keys()}')\n",
    "print(f'HAADF signal shape: {Signals[\"HAADF\"].shape}')\n",
    "print(f'Fe_Ka signal shape: {Signals[\"Fe_Ka\"].shape}')\n",
    "print(f'Tilts: {Tilts}')\n",
    "print('At this point all this data is held in RAM.  Hopefully you have enough!')"
   ]
  },
  {
   "cell_type": "markdown",
   "metadata": {},
   "source": [
    "# 2. Tilt Normalization\n",
    "\n",
    "As the stage tilts, more/different material enters the field of view, and the EDS detectors are shadowed differently. This causes the intensity of the EDS signals to vary as a function of stage tilt.  On our microscope, the minimum signal occurs at +/- 18 degrees because the takeoff angle of our 4 EDS detectors is 18 deg. We select a small portion out of the middle, (in this case a box half the width and height of the FOV) and sum that up to determine the normalization intensity.  We do this only for the Si_Ka signal since it is a good tradeoff between a high enough energy such that attenuation of the signal within the sample is small, and still has good signal.  The choice of which channel to use is dependent on your sample. We then apply that normalization across all the EDS signals."
   ]
  },
  {
   "cell_type": "code",
   "execution_count": 27,
   "metadata": {},
   "outputs": [
    {
     "name": "stdout",
     "output_type": "stream",
     "text": [
      "Producing normalization curve for all signals based on Si_Ka.\n"
     ]
    }
   ],
   "source": [
    "Signals, NormCurve = preprocess.NormalizeSignals(Signals, Tilts, NormalizationSignalName='Si_Ka', NormalizationImageFraction=0.5)"
   ]
  },
  {
   "cell_type": "code",
   "execution_count": 28,
   "metadata": {},
   "outputs": [
    {
     "data": {
      "text/plain": [
       "Text(0, 0.5, 'Normalization multiplier')"
      ]
     },
     "execution_count": 28,
     "metadata": {},
     "output_type": "execute_result"
    },
    {
     "data": {
      "image/png": "[encoded data removed]",
      "text/plain": [
       "<Figure size 720x432 with 1 Axes>"
      ]
     },
     "metadata": {
      "image/png": {
       "height": 372,
       "width": 610
      },
      "needs_background": "light"
     },
     "output_type": "display_data"
    }
   ],
   "source": [
    "plt.plot(Tilts,NormCurve)\n",
    "plt.xlabel('Stage tilt')\n",
    "plt.ylabel('Normalization multiplier')"
   ]
  },
  {
   "cell_type": "markdown",
   "metadata": {},
   "source": [
    "# 3. Output data to tifs for alignment."
   ]
  },
  {
   "cell_type": "code",
   "execution_count": 29,
   "metadata": {},
   "outputs": [
    {
     "name": "stdout",
     "output_type": "stream",
     "text": [
      "Creating directory: Output4bin/Unaligned\n",
      "Writing HAADF.tif\n",
      "Writing Al_Ka.tif\n",
      "Writing C_Ka.tif\n",
      "Writing Ca_Ka.tif\n",
      "Writing Cr_Ka.tif\n",
      "Writing Fe_Ka.tif\n",
      "Writing Ga_Ka.tif\n",
      "Writing Mg_Ka.tif\n",
      "Writing Na_Ka.tif\n",
      "Writing Ni_Ka.tif\n",
      "Writing O_Ka.tif\n",
      "Writing P_Ka.tif\n",
      "Writing Pt_La.tif\n",
      "Writing S_Ka.tif\n",
      "Writing Si_Ka.tif\n",
      "Writing tilts file.\n"
     ]
    }
   ],
   "source": [
    "preprocess.WriteSignalsToTIFFs(OutputDirectory, Signals)\n",
    "preprocess.WriteMetaDataFiles(OutputDirectory, Tilts, NormCurve, NormalizationSignalName='Si_Ka')"
   ]
  },
  {
   "cell_type": "markdown",
   "metadata": {},
   "source": [
    "# 4. Align stack using TomViz or ImageJ.  In this case we will use TomViz."
   ]
  },
  {
   "cell_type": "markdown",
   "metadata": {},
   "source": [
    "For alignment we used TomViz and manually aligned the HAADF signal.\n",
    "\n",
    "This is what our alignment looked like:\n",
    "\n",
    "<img src='TomVizAlign.png' width=50%>\n",
    "\n",
    "<font size=4 color='red'>Don't forget to save the alignment file as 'TomVizAlignments.json'!!!</font>\n"
   ]
  },
  {
   "cell_type": "markdown",
   "metadata": {},
   "source": [
    "# 5. Apply alignment to all signals.\n",
    "\n",
    "Notice that the HAADF signal is a different size than the EDS signals because it was not binned.  This is because the HAADF signal usually has high SNR so it is possible to do a full tomographic reconstruction on it without binning.  However, the image translations for the individual images in the HAADF tilt series will have to be scaled down for each of the EDS channels.  Therefore it is important to tell the alignment function which channel was used to align.  It will automatically scale everything accordingly.  Sorry, as of now, only pixel alignment -- no subpixel scaling!"
   ]
  },
  {
   "cell_type": "code",
   "execution_count": 30,
   "metadata": {
    "scrolled": false
   },
   "outputs": [
    {
     "name": "stdout",
     "output_type": "stream",
     "text": [
      "Aligning HAADF\n",
      "TranslationScale: [1. 1.]\n",
      "Aligning Al_Ka\n",
      "TranslationScale: [0.25 0.25]\n",
      "Aligning C_Ka\n",
      "TranslationScale: [0.25 0.25]\n",
      "Aligning Ca_Ka\n",
      "TranslationScale: [0.25 0.25]\n",
      "Aligning Cr_Ka\n",
      "TranslationScale: [0.25 0.25]\n",
      "Aligning Fe_Ka\n",
      "TranslationScale: [0.25 0.25]\n",
      "Aligning Ga_Ka\n",
      "TranslationScale: [0.25 0.25]\n",
      "Aligning Mg_Ka\n",
      "TranslationScale: [0.25 0.25]\n",
      "Aligning Na_Ka\n",
      "TranslationScale: [0.25 0.25]\n",
      "Aligning Ni_Ka\n",
      "TranslationScale: [0.25 0.25]\n",
      "Aligning O_Ka\n",
      "TranslationScale: [0.25 0.25]\n",
      "Aligning P_Ka\n",
      "TranslationScale: [0.25 0.25]\n",
      "Aligning Pt_La\n",
      "TranslationScale: [0.25 0.25]\n",
      "Aligning S_Ka\n",
      "TranslationScale: [0.25 0.25]\n",
      "Aligning Si_Ka\n",
      "TranslationScale: [0.25 0.25]\n"
     ]
    }
   ],
   "source": [
    "Translations = preprocess.ReadTomVizTranslations(os.path.join(OutputDirectory, 'TomVizAlignments.json'), Tilts)\n",
    "AlignedSignals = preprocess.ApplyTranslations(Signals, Translations, 'HAADF')"
   ]
  },
  {
   "cell_type": "markdown",
   "metadata": {},
   "source": [
    "# 6. Output everything into a format that GENFIRE can read, and setup GENFIRE calculations.\n",
    "\n",
    "We create a file DoGenfire.py in the output directory which can be used to run GENFIRE neatly from the command line. GENFIRE requires a .npy file which contains the tilt sequence. We also make a shell script which runs GENFIRE in a compute cluster environment.  Similarly, we produce runall.sh which runs all the stacks using slurm (a common process manager on supercomputers -- and one we use on our cluster.  This can take a lot of compute time if you run it on a single machine."
   ]
  },
  {
   "cell_type": "code",
   "execution_count": 31,
   "metadata": {},
   "outputs": [
    {
     "name": "stdout",
     "output_type": "stream",
     "text": [
      "Creating directory: Output4bin/Aligned\n",
      "Writing HAADF.tif\n",
      "Writing Al_Ka.tif\n",
      "Writing C_Ka.tif\n",
      "Writing Ca_Ka.tif\n",
      "Writing Cr_Ka.tif\n",
      "Writing Fe_Ka.tif\n",
      "Writing Ga_Ka.tif\n",
      "Writing Mg_Ka.tif\n",
      "Writing Na_Ka.tif\n",
      "Writing Ni_Ka.tif\n",
      "Writing O_Ka.tif\n",
      "Writing P_Ka.tif\n",
      "Writing Pt_La.tif\n",
      "Writing S_Ka.tif\n",
      "Writing Si_Ka.tif\n",
      "Writing tilts file.\n",
      "Writing HAADF_aligned.npy, Writing HAADF_slurm.sh\n",
      "Writing Al_Ka_aligned.npy, Writing Al_Ka_slurm.sh\n",
      "Writing C_Ka_aligned.npy, Writing C_Ka_slurm.sh\n",
      "Writing Ca_Ka_aligned.npy, Writing Ca_Ka_slurm.sh\n",
      "Writing Cr_Ka_aligned.npy, Writing Cr_Ka_slurm.sh\n",
      "Writing Fe_Ka_aligned.npy, Writing Fe_Ka_slurm.sh\n",
      "Writing Ga_Ka_aligned.npy, Writing Ga_Ka_slurm.sh\n",
      "Writing Mg_Ka_aligned.npy, Writing Mg_Ka_slurm.sh\n",
      "Writing Na_Ka_aligned.npy, Writing Na_Ka_slurm.sh\n",
      "Writing Ni_Ka_aligned.npy, Writing Ni_Ka_slurm.sh\n",
      "Writing O_Ka_aligned.npy, Writing O_Ka_slurm.sh\n",
      "Writing P_Ka_aligned.npy, Writing P_Ka_slurm.sh\n",
      "Writing Pt_La_aligned.npy, Writing Pt_La_slurm.sh\n",
      "Writing S_Ka_aligned.npy, Writing S_Ka_slurm.sh\n",
      "Writing Si_Ka_aligned.npy, Writing Si_Ka_slurm.sh\n",
      "Writing runall.sh\n"
     ]
    }
   ],
   "source": [
    "preprocess.WriteSignalsToTIFFs(AlignedDirectory, AlignedSignals)\n",
    "preprocess.WriteMetaDataFiles(AlignedDirectory, Tilts, NormCurve, NormalizationSignalName='Si_Ka')\n",
    "preprocess.WriteSignalsToGENFIRE(AlignedDirectory, AlignedSignals, Tilts)"
   ]
  },
  {
   "cell_type": "markdown",
   "metadata": {},
   "source": [
    "# 7. Do the GENFIRE calculations (generally on a compute cluster).\n",
    "\n",
    "In our case we take the output directory, upload it to the cluster using Globus, log into the cluster and execute:\n",
    "\n",
    "```\n",
    "chmod +x runall.sh\n",
    "./runall.sh\n",
    "```\n",
    "\n",
    "We wind up with something like this:\n",
    "\n",
    "<img src='SlurmOutput.png' width=50%>"
   ]
  },
  {
   "cell_type": "markdown",
   "metadata": {},
   "source": [
    "# 8. Read in the results and trim the cubes."
   ]
  },
  {
   "cell_type": "code",
   "execution_count": 32,
   "metadata": {},
   "outputs": [
    {
     "name": "stdout",
     "output_type": "stream",
     "text": [
      "(64, 64, 64)\n"
     ]
    },
    {
     "data": {
      "application/vnd.jupyter.widget-view+json": {
       "model_id": "ce292866baca4c44b95e0ba849daccfa",
       "version_major": 2,
       "version_minor": 0
      },
      "text/plain": [
       "VBox(children=(VBox(children=(HBox(children=(Label(value='levels:'), FloatSlider(value=0.1, max=1.0, step=0.00…"
      ]
     },
     "metadata": {},
     "output_type": "display_data"
    }
   ],
   "source": [
    "# Choose one to view and figure out what the truncation bounds should be.\n",
    "Signal = genfire.fileio.readMRC(os.path.join(ReconstructedDirectory, 'Mg_Ka_reconstruction.mrc'))\n",
    "\n",
    "CropBounds = {'xmin': 0.40, 'xmax': 0.60,\n",
    "              'ymin': 0.10, 'ymax': 0.90,\n",
    "              'zmin': 0.15, 'zmax': 0.85}\n",
    "\n",
    "Signal = postprocess.SquareCropSignal(Signal, CropBounds)\n",
    "print(Signal.shape)\n",
    "ipyvolume.quickvolshow(Signal)"
   ]
  },
  {
   "cell_type": "code",
   "execution_count": 33,
   "metadata": {},
   "outputs": [
    {
     "name": "stdout",
     "output_type": "stream",
     "text": [
      "Cropping HAADF.\n",
      "Cropping Al_Ka.\n",
      "Cropping C_Ka.\n",
      "Cropping Ca_Ka.\n",
      "Cropping Cr_Ka.\n",
      "Cropping Fe_Ka.\n",
      "Cropping Ga_Ka.\n",
      "Cropping Mg_Ka.\n",
      "Cropping Na_Ka.\n",
      "Cropping Ni_Ka.\n",
      "Cropping O_Ka.\n",
      "Cropping P_Ka.\n",
      "Cropping Pt_La.\n",
      "Cropping S_Ka.\n",
      "Cropping Si_Ka.\n",
      "Done.\n"
     ]
    }
   ],
   "source": [
    "# Apply that cropping to all stacks.\n",
    "# Now loop through all the maps and clip them all.\n",
    "for Signal in Signals:\n",
    "    print(f'Cropping {Signal}.')\n",
    "    Cube = genfire.fileio.readMRC(os.path.join(ReconstructedDirectory, Signal+'_reconstruction.mrc'))\n",
    "    Cube = postprocess.SquareCropSignal(Cube, CropBounds)\n",
    "    genfire.fileio.writeMRC(arr=Cube, filename=os.path.join(ReconstructedDirectory, Signal+'_reconstruction_cropped.mrc'))\n",
    "print('Done.')"
   ]
  },
  {
   "cell_type": "markdown",
   "metadata": {},
   "source": [
    "# 9. Produce visualizations in ChimeraX.\n",
    "At this point the reconstruction is done.  You can simply open up \"signal_reconstruction_cropped.mrc\" in any visualizer you like.  We use ChimeraX.  It provides the ability to script the display, can display multiple channels easily at once, and also allows for VR viewing.\n",
    "ChimeraX has its own documentation and we don't reproduce it here.  However, let's go through a simple example just to get started.\n",
    "There is a ManyElements2bin.cxc (and 4bin) in the data directory.  Opening them up in ChimeraX looks like this:\n",
    "\n",
    "<table>\n",
    "    <tr>\n",
    "        <td align=\"center\"><font size=4>ManyElements2bin.cxc</font></td><td align=\"center\"><font size=4>ManyElements4bin.cxc</font></td>\n",
    "    </tr>\n",
    "    <tr>\n",
    "        <td><img src='ManyElements2bin.png'></td><td><img src='ManyElements4bin.png'></td>\n",
    "    </tr>\n",
    "</table>\n",
    "\n",
    "By comparison, these are EDS maps taken without any stage tilt, and for a longer acquisition:\n",
    "\n",
    "<img src='Mosaic.png' width=75%>\n",
    "\n",
    "Compare the two views and adjust thresholds for surfaces in ChimeraX until it matches the actual phase boundaries.  In our humble opinion, the 4-binned version is superior in this case so we default to 4 binning in this demo."
   ]
  },
  {
   "cell_type": "code",
   "execution_count": 34,
   "metadata": {},
   "outputs": [
    {
     "name": "stdout",
     "output_type": "stream",
     "text": [
      "[NbConvertApp] Converting notebook Process_L2083-K-4-1.ipynb to html\n",
      "[NbConvertApp] Writing 347460 bytes to Process_L2083-K-4-1.html\n"
     ]
    }
   ],
   "source": [
    "!jupyter-nbconvert --to html 'Process_L2083-K-4-1.ipynb'"
   ]
  },
  {
   "cell_type": "code",
   "execution_count": null,
   "metadata": {},
   "outputs": [],
   "source": []
  }
 ],
 "metadata": {
  "kernelspec": {
   "display_name": "Python 3",
   "language": "python",
   "name": "python3"
  },
  "language_info": {
   "codemirror_mode": {
    "name": "ipython",
    "version": 3
   },
   "file_extension": ".py",
   "mimetype": "text/x-python",
   "name": "python",
   "nbconvert_exporter": "python",
   "pygments_lexer": "ipython3",
   "version": "3.7.2"
  }
 },
 "nbformat": 4,
 "nbformat_minor": 2
}
